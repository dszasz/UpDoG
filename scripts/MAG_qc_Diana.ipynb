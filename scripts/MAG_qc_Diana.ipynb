{
 "cells": [
  {
   "cell_type": "markdown",
   "id": "1a26cbc0-5951-4d89-8db4-17d4cd946fa2",
   "metadata": {
    "tags": []
   },
   "source": [
    "# 1. MAG Quality Control\n",
    "## 1.1 Fetching datasets from BUSCO"
   ]
  },
  {
   "cell_type": "code",
   "execution_count": null,
   "id": "51b5746f-da3b-446c-a41a-26cb989a5ef3",
   "metadata": {},
   "outputs": [],
   "source": [
    "#Estimate and assess the purity of our dataset with BUSCO. Same code as in W4.\n",
    "#Bacteria\n",
    "! qiime annotate fetch-busco-db \\\n",
    "    --p-lineages bacteria_odb12 \\\n",
    "    --o-db $data_dir/busco-db-bacteria.qza\n",
    "\n",
    "#Archaea\n",
    "qiime annotate fetch-busco-db \\\n",
    "    --p-lineages archaea_odb12 \\\n",
    "    --o-db $data_dir/busco-db-archaea.qza\n",
    "\n",
    "#Fungi\n",
    "qiime annotate fetch-busco-db \\\n",
    "  --p-lineages fungi_odb12 \\\n",
    "  --o-db $data_dir/busco-db-fungi.qza"
   ]
  },
  {
   "cell_type": "markdown",
   "id": "9c8184a5",
   "metadata": {},
   "source": [
    "## 1.2 Run BUSCO"
   ]
  },
  {
   "cell_type": "code",
   "execution_count": null,
   "id": "f4e8c51c",
   "metadata": {},
   "outputs": [],
   "source": [
    "#Bacteria\n",
    "! qiime annotate evaluate-busco \\\n",
    "    --i-mags $data_dir/updog_mags.qza \\\n",
    "    --i-db $data_dir/busco-db-bacteria.qza \\\n",
    "    --p-lineage-dataset bacteria_odb12 \\\n",
    "    --p-cpu 3 \\\n",
    "    --o-results $data_dir/busco-results-bacteria.qza \\\n",
    "    --o-visualization $data_dir/mags-busco-bacteria.qzv\n",
    "\n",
    "#Archaea\n",
    "mosh annotate filter-mags \\\n",
    "  --i-mags $data_dir/updog_mags.qza \\\n",
    "  --m-metadata-file $data_dir/busco-results-archaea.qza \\\n",
    "  --p-where \"complete > 50 AND contamination < 10\" \\\n",
    "  --p-no-exclude-ids \\\n",
    "  --p-on mag \\\n",
    "  --o-filtered-mags $data_dir/mags_filtered_archaea_50.qza \\\n",
    "  --verbose\n",
    "\n",
    "#Fungi\n",
    "mosh annotate filter-mags \\\n",
    "  --i-mags $data_dir/updog_mags.qza \\\n",
    "  --m-metadata-file $data_dir/busco-results-fungi.qza \\\n",
    "  --p-where \"complete > 50 AND contamination < 10\" \\\n",
    "  --p-no-exclude-ids \\\n",
    "  --p-on mag \\\n",
    "  --o-filtered-mags $data_dir/mags_filtered_fungi_50.qza \\\n",
    "  --verbose"
   ]
  },
  {
   "cell_type": "markdown",
   "id": "834e072f",
   "metadata": {},
   "source": [
    "## 1.3 MAGs filtering\n",
    "Now that we evaluated the quality of our MAGs, we can use this information to filter out only the best ones."
   ]
  },
  {
   "cell_type": "code",
   "execution_count": null,
   "id": "d1f299ca",
   "metadata": {},
   "outputs": [],
   "source": [
    "# --- Bacteria ---\n",
    "mosh annotate filter-mags \\\n",
    "  --i-mags $data_dir/mags.qza \\\n",
    "  --m-metadata-file $data_dir/busco-results-bacteria.qza \\\n",
    "  --p-where \"complete > 50 AND contamination < 10\" \\\n",
    "  --p-no-exclude-ids \\\n",
    "  --p-on mag \\\n",
    "  --o-filtered-mags $data_dir/mags_filtered_bacteria_50.qza \\\n",
    "  --verbose\n",
    "\n",
    "# --- Archaea ---\n",
    "mosh annotate filter-mags \\\n",
    "  --i-mags $data_dir/mags.qza \\\n",
    "  --m-metadata-file $data_dir/busco-results-archaea.qza \\\n",
    "  --p-where \"complete > 50 AND contamination < 10\" \\\n",
    "  --p-no-exclude-ids \\\n",
    "  --p-on mag \\\n",
    "  --o-filtered-mags $data_dir/mags_filtered_archaea_50.qza \\\n",
    "  --verbose\n",
    "\n",
    "# --- Fungi ---\n",
    "mosh annotate filter-mags \\\n",
    "  --i-mags $data_dir/mags.qza \\\n",
    "  --m-metadata-file $data_dir/busco-results-fungi.qza \\\n",
    "  --p-where \"complete > 50 AND contamination < 10\" \\\n",
    "  --p-no-exclude-ids \\\n",
    "  --p-on mag \\\n",
    "  --o-filtered-mags $data_dir/mags_filtered_fungi_50.qza \\\n",
    "  --verbose"
   ]
  },
  {
   "cell_type": "code",
   "execution_count": null,
   "id": "f13f70da",
   "metadata": {},
   "outputs": [],
   "source": [
    "#merging all those tables together\n",
    "qiime feature-table merge \\\n",
    "  --i-tables $data_dir/mags_filtered_bacteria_50.qza \\\n",
    "  --i-tables $data_dir/mags_filtered_archaea_50.qza \\\n",
    "  --i-tables $data_dir/mags_filtered_fungi_50.qza \\\n",
    "  --o-merged-table $data_dir/mags_filtered_all_50.qza"
   ]
  }
 ],
 "metadata": {
  "kernelspec": {
   "display_name": "QIIME 2",
   "language": "python",
   "name": "python3"
  },
  "language_info": {
   "codemirror_mode": {
    "name": "ipython",
    "version": 3
   },
   "file_extension": ".py",
   "mimetype": "text/x-python",
   "name": "python",
   "nbconvert_exporter": "python",
   "pygments_lexer": "ipython3",
   "version": "3.10.14"
  }
 },
 "nbformat": 4,
 "nbformat_minor": 5
}
