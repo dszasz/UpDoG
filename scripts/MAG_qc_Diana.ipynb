{
 "cells": [
  {
   "cell_type": "markdown",
   "id": "1a26cbc0-5951-4d89-8db4-17d4cd946fa2",
   "metadata": {
    "tags": []
   },
   "source": [
    "# MAG Quality Control\n",
    "## 1. Fetching datasets from BUSCO for bacteria, archaea, and fungi"
   ]
  },
  {
   "cell_type": "code",
   "execution_count": null,
   "id": "51b5746f-da3b-446c-a41a-26cb989a5ef3",
   "metadata": {},
   "outputs": [],
   "source": [
    "#Estimate and assess the purity of our dataset with BUSCO. Same code as in W4.\n",
    "#Bacteria\n",
    "! qiime annotate fetch-busco-db \\\n",
    "    --p-lineages bacteria_odb12 \\\n",
    "    --o-db $data_dir/busco-db-bacteria.qza\n",
    "\n",
    "#Archaea\n",
    "qiime annotate fetch-busco-db \\\n",
    "    --p-lineages archaea_odb12 \\\n",
    "    --o-db $data_dir/busco-db-archaea.qza\n",
    "\n",
    "#Fungi\n",
    "qiime annotate fetch-busco-db \\\n",
    "  --p-lineages fungi_odb12 \\\n",
    "  --o-db $data_dir/busco-db-fungi.qza"
   ]
  },
  {
   "cell_type": "markdown",
   "id": "9c8184a5",
   "metadata": {},
   "source": [
    "## 2. Bacteria \n",
    "### 2.1 Run Busco"
   ]
  },
  {
   "cell_type": "code",
   "execution_count": null,
   "id": "f4e8c51c",
   "metadata": {},
   "outputs": [],
   "source": [
    "! qiime annotate evaluate-busco \\\n",
    "    --i-mags $data_dir/updog_mags.qza \\\n",
    "    --i-db $data_dir/busco-db-bacteria.qza \\\n",
    "    --p-lineage-dataset bacteria_odb12 \\\n",
    "    --p-cpu 3 \\\n",
    "    --o-results $data_dir/busco-results-bacteria.qza \\\n",
    "    --o-visualization $data_dir/mags-busco-bacteria.qzv\n"
   ]
  },
  {
   "cell_type": "markdown",
   "id": "c01de67d",
   "metadata": {},
   "source": [
    "### 2.2 MAGs Filtering\n",
    "Now that we evaluated the quality of our MAGs, we can use this information to filter out only the best ones."
   ]
  },
  {
   "cell_type": "code",
   "execution_count": null,
   "id": "5503ca1f",
   "metadata": {},
   "outputs": [],
   "source": [
    "mosh annotate filter-mags \\\n",
    "  --i-mags $data_dir/mags.qza \\\n",
    "  --m-metadata-file $data_dir/busco-results-bacteria.qza \\\n",
    "  --p-where \"complete > 50 AND contamination < 10\" \\\n",
    "  --p-no-exclude-ids \\\n",
    "  --p-on mag \\\n",
    "  --o-filtered-mags $data_dir/mags_filtered_bacteria_50.qza \\\n",
    "  --verbose"
   ]
  },
  {
   "cell_type": "markdown",
   "id": "834e072f",
   "metadata": {},
   "source": [
    "## 3. Archaea\n",
    "Follows the same steps as for bacteria\n",
    "### 3.1 Run Busco\n"
   ]
  },
  {
   "cell_type": "code",
   "execution_count": null,
   "id": "0dd67615",
   "metadata": {},
   "outputs": [],
   "source": [
    "qiime annotate evaluate-busco \\\n",
    "    --i-mags $data_dir/updog_mags_131025.qza \\\n",
    "    --i-db $data_dir/busco-db-archaea.qza \\\n",
    "    --p-lineage-dataset archaea_odb12 \\\n",
    "    --p-cpu 3 \\\n",
    "    --o-results $data_dir/busco-results-archaea.qza \\\n",
    "    --o-visualization $data_dir/mags-busco-archaea.qzv"
   ]
  },
  {
   "cell_type": "markdown",
   "id": "05bad0c6",
   "metadata": {},
   "source": [
    "### 3.2 Filtering MAGs"
   ]
  },
  {
   "cell_type": "code",
   "execution_count": null,
   "id": "d1f299ca",
   "metadata": {},
   "outputs": [],
   "source": [
    "mosh annotate filter-mags \\\n",
    "  --i-mags $data_dir/mags.qza \\\n",
    "  --m-metadata-file $data_dir/busco-results-archaea.qza \\\n",
    "  --p-where \"complete > 50 AND contamination < 10\" \\\n",
    "  --p-no-exclude-ids \\\n",
    "  --p-on mag \\\n",
    "  --o-filtered-mags $data_dir/mags_filtered_archaea_50.qza \\\n",
    "  --verbose"
   ]
  },
  {
   "cell_type": "markdown",
   "id": "9ee5b21a",
   "metadata": {},
   "source": [
    "## 4. Fungi\n",
    "\n",
    "As the quality check with BUSCO took too much time and needed more computational capacity in order to run, we partitioned the sequences per sample ID \n",
    "\n",
    "### 4.1 Partitioning"
   ]
  },
  {
   "cell_type": "code",
   "execution_count": null,
   "id": "7cc91eee",
   "metadata": {},
   "outputs": [],
   "source": [
    "qiime types partition-sample-data-mags \\\n",
    "  --i-mags updog_mags.qza \\\n",
    "  --p-num-partitions 126 \\\n",
    "  --o-partitioned-mags busco_inputs/updog_mags_partitions"
   ]
  },
  {
   "cell_type": "markdown",
   "id": "a8dfe32b",
   "metadata": {},
   "source": [
    "### 4.2 Run Busco\n",
    "\n",
    "then we ran BUSCO on each individual file"
   ]
  },
  {
   "cell_type": "code",
   "execution_count": null,
   "id": "6b1922cc",
   "metadata": {},
   "outputs": [],
   "source": [
    "QZA_DIR=\"/cluster/scratch/$USER/updog/busco_inputs/updog_mags_partitions\"\n",
    "\n",
    "# Pick the file corresponding to this task\n",
    "SAMPLE_FILE=$(ls $QZA_DIR/*.qza | sed -n \"${SLURM_ARRAY_TASK_ID}p\")\n",
    "\n",
    "echo \"Processing $SAMPLE_FILE on $SLURM_JOB_NODELIST\"\n",
    "\n",
    "# Run BUSCO for fungi\n",
    "qiime annotate evaluate-busco \\\n",
    "    --i-mags $SAMPLE_FILE \\\n",
    "    --i-db $data_dir/busco-db-fungi.qza \\\n",
    "    --p-lineage-dataset fungi_odb12 \\\n",
    "    --p-cpu 3 \\\n",
    "    --o-results $output_dir/$(basename $SAMPLE_FILE .qza)_busco-results-fungi.qza \\\n",
    "    --o-visualization $output_dir/$(basename $SAMPLE_FILE .qza)_busco-fungi.qzv"
   ]
  },
  {
   "cell_type": "markdown",
   "id": "34cc3d16",
   "metadata": {},
   "source": [
    "### 4.3 MAGs filtering"
   ]
  },
  {
   "cell_type": "code",
   "execution_count": null,
   "id": "86b10329",
   "metadata": {},
   "outputs": [],
   "source": [
    "# Paths\n",
    "data_dir=/cluster/scratch/$USER/updog\n",
    "samples_dir=$data_dir/busco_inputs/updog_mags_partitions          # directory with per-sample .qza\n",
    "busco_metrics=$data_dir/busco-results-bacteria.qza  # your BUSCO results file\n",
    "output_dir=$data_dir/busco_filtered\n",
    "mkdir -p $output_dir\n",
    "\n",
    "# Pick the sample file for this array task\n",
    "SAMPLE_FILE=$(ls $samples_dir/*.qza | sed -n \"${SLURM_ARRAY_TASK_ID}p\")\n",
    "BASENAME=$(basename \"$SAMPLE_FILE\" .qza)\n",
    "\n",
    "echo \"Filtering $SAMPLE_FILE on $SLURM_JOB_NODELIST\"\n",
    "\n",
    "# Run the filter\n",
    "mosh annotate filter-mags \\\n",
    "  --i-mags $SAMPLE_FILE \\\n",
    "  --m-metadata-file $busco_metrics \\\n",
    "  --p-where \"complete > 50 AND contamination < 10\" \\\n",
    "  --p-no-exclude-ids \\\n",
    "  --p-on mag \\\n",
    "  --o-filtered-mags $output_dir/${BASENAME}_filtered.qza \\\n",
    "  --verbose"
   ]
  },
  {
   "cell_type": "markdown",
   "id": "399ee84a",
   "metadata": {},
   "source": [
    "### 4.4 Collating filtered MAGs\n",
    "\n",
    "we then collated all the filtered fungi MAGs in order to only have one file with all of the mags for the dereplication step"
   ]
  },
  {
   "cell_type": "code",
   "execution_count": null,
   "id": "f13f70da",
   "metadata": {},
   "outputs": [],
   "source": [
    "qiime types collate-sample-data-mags \\\n",
    "  --i-mags $data_dir/busco_filtered/*.qza \\\n",
    "  --o-collated-mags $data_dir/mags_filtered_all_fungi.qza"
   ]
  }
 ],
 "metadata": {
  "kernelspec": {
   "display_name": "QIIME 2",
   "language": "python",
   "name": "python3"
  },
  "language_info": {
   "codemirror_mode": {
    "name": "ipython",
    "version": 3
   },
   "file_extension": ".py",
   "mimetype": "text/x-python",
   "name": "python",
   "nbconvert_exporter": "python",
   "pygments_lexer": "ipython3",
   "version": "3.10.14"
  }
 },
 "nbformat": 4,
 "nbformat_minor": 5
}
