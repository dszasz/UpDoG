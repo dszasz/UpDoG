{
 "cells": [
  {
   "cell_type": "markdown",
   "id": "1a26cbc0-5951-4d89-8db4-17d4cd946fa2",
   "metadata": {
    "tags": []
   },
   "source": [
    "### 1. MAG Quality Control\n",
    "Estimate and assess the purity of our dataset with BUSCO."
   ]
  },
  {
   "cell_type": "code",
   "execution_count": null,
   "id": "51b5746f-da3b-446c-a41a-26cb989a5ef3",
   "metadata": {},
   "outputs": [],
   "source": [
    "! qiime annotate fetch-busco-db \\\n",
    "    --p-lineages bacteria_odb12 \\\n",
    "    --o-db $data_dir/busco-db-bacteria.qza"
   ]
  },
  {
   "cell_type": "markdown",
   "id": "5a538591-3085-4f7a-b0dc-63b65c6a94b5",
   "metadata": {},
   "source": [
    "Same code as in W4"
   ]
  },
  {
   "cell_type": "markdown",
   "id": "0313ae56-7733-42ce-b898-43536a4b9aa0",
   "metadata": {},
   "source": [
    "Next, we use the database we fetched to run BUSCO with our recovered MAGs as input:"
   ]
  },
  {
   "cell_type": "code",
   "execution_count": null,
   "id": "16d7a2e0-3ea1-4716-b703-a568438dc2b6",
   "metadata": {},
   "outputs": [],
   "source": [
    "! qiime annotate evaluate-busco \\\n",
    "    --i-mags $data_dir/updog_mags.qza \\\n",
    "    --i-db $data_dir/busco-db-bacteria.qza \\\n",
    "    --p-lineage-dataset bacteria_odb12 \\\n",
    "    --p-cpu 3 \\\n",
    "    --o-results $data_dir/busco-results.qza \\\n",
    "    --o-visualization $data_dir/mags.qzv"
   ]
  },
  {
   "cell_type": "code",
   "execution_count": null,
   "id": "2fa7cd34-7a6c-4a05-96ec-8dedcd250b25",
   "metadata": {},
   "outputs": [],
   "source": [
    "This should generate a table"
   ]
  },
  {
   "cell_type": "code",
   "execution_count": null,
   "id": "5c912730-5426-4b98-8299-49109c4c185f",
   "metadata": {},
   "outputs": [],
   "source": [
    "q2.Visualization.load(f\"{data_dir}/mags.qzv\")"
   ]
  },
  {
   "cell_type": "markdown",
   "id": "a6c2a066-02a6-4a45-9608-d5ad7136b297",
   "metadata": {},
   "source": [
    "Now that we evaluated the quality of our MAGs, we can use this information to filter out only the best ones. Maybe we have to adjust some parameters..."
   ]
  },
  {
   "cell_type": "code",
   "execution_count": null,
   "id": "feb8b532-6389-459d-9f6c-77277d446f4f",
   "metadata": {},
   "outputs": [],
   "source": [
    "! qiime annotate filter-mags \\\n",
    "    --i-mags $data_dir/mags.qza \\\n",
    "    --m-metadata-file $data_dir/busco-results.qza \\\n",
    "    --p-where \"completeness>50 AND contamination<10\" \\\n",
    "    --p-on \"mag\" \\\n",
    "    --o-filtered-mags $data_dir/mags-filtered.qza"
   ]
  }
 ],
 "metadata": {
  "kernelspec": {
   "display_name": "QIIME 2",
   "language": "python",
   "name": "python3"
  },
  "language_info": {
   "codemirror_mode": {
    "name": "ipython",
    "version": 3
   },
   "file_extension": ".py",
   "mimetype": "text/x-python",
   "name": "python",
   "nbconvert_exporter": "python",
   "pygments_lexer": "ipython3",
   "version": "3.10.14"
  }
 },
 "nbformat": 4,
 "nbformat_minor": 5
}
