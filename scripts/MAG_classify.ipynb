{
 "cells": [
  {
   "cell_type": "markdown",
   "id": "b76300df",
   "metadata": {},
   "source": [
    "# MAGs taxonomic classification\n",
    "\n",
    "1. import database on euler"
   ]
  },
  {
   "cell_type": "code",
   "execution_count": null,
   "id": "280c2a66",
   "metadata": {
    "vscode": {
     "languageId": "shellscript"
    }
   },
   "outputs": [],
   "source": [
    "mosh annotate build-kraken-db \\\n",
    "    --p-collection pluspf \\\n",
    "    --o-kraken2-db $data_dir/kraken2_db \\"
   ]
  },
  {
   "cell_type": "markdown",
   "id": "c7ba9a1c",
   "metadata": {},
   "source": [
    "2. classification using kraken2"
   ]
  },
  {
   "cell_type": "code",
   "execution_count": null,
   "id": "af675f8c",
   "metadata": {
    "vscode": {
     "languageId": "shellscript"
    }
   },
   "outputs": [],
   "source": [
    "! qiime annotate classify-kraken2 \\\n",
    "    --i-seqs $data_dir/mags-derep.qza \\\n",
    "    --i-db $data_dir/kraken2-db.qza \\\n",
    "    --p-threads 12 \\\n",
    "    --p-confidence 0.5 \\\n",
    "    --p-memory-mapping \\\n",
    "    --o-reports $data_dir/kraken2-reports-mags.qza \\\n",
    "    --o-outputs $data_dir/kraken2-hits-mags.qza\n",
    "    --verbose"
   ]
  },
  {
   "cell_type": "markdown",
   "id": "1b739cce",
   "metadata": {},
   "source": [
    "3. More Qimme2-like taxonomy"
   ]
  },
  {
   "cell_type": "code",
   "execution_count": null,
   "id": "3b84f42c",
   "metadata": {
    "vscode": {
     "languageId": "shellscript"
    }
   },
   "outputs": [],
   "source": [
    "! qiime annotate kraken2-to-mag-features \\\n",
    "    --i-reports $data_dir/kraken2-reports-mags.qza \\\n",
    "    --i-outputs $data_dir/kraken2-hits-mags.qza \\\n",
    "    --o-taxonomy $data_dir/mags-taxonomy.qza"
   ]
  },
  {
   "cell_type": "markdown",
   "id": "b830c2af",
   "metadata": {},
   "source": [
    "4. Get visualization"
   ]
  },
  {
   "cell_type": "code",
   "execution_count": null,
   "id": "ba2a3567",
   "metadata": {
    "vscode": {
     "languageId": "shellscript"
    }
   },
   "outputs": [],
   "source": [
    "qiime metadata tabulate \\\n",
    "  --m-input-file $data_dir/mags-taxonomy.qza \\\n",
    "  --o-visualization $data_dir/mags-taxonomy.qzv"
   ]
  }
 ],
 "metadata": {
  "language_info": {
   "name": "python"
  }
 },
 "nbformat": 4,
 "nbformat_minor": 5
}
