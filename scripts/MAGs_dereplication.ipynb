{
 "cells": [
  {
   "cell_type": "markdown",
   "id": "214141c3-8a10-4bf6-8adc-7d321630aaf8",
   "metadata": {},
   "source": [
    "# MAGs Dereplication\n",
    "\n",
    "## 1. Bacteria"
   ]
  },
  {
   "cell_type": "code",
   "execution_count": null,
   "id": "5a9a3bc9-d463-4d4e-93eb-82a4c9bcf13e",
   "metadata": {
    "tags": []
   },
   "outputs": [],
   "source": [
    "mosh sourmash compute \\\n",
    "    --i-sequence-file $data_dir/mags_filtered_bacteria_50.qza \\\n",
    "    --p-ksizes 105 \\\n",
    "    --p-scaled 100 \\\n",
    "    --o-min-hash-signature $data_dir/mags-hashes-bacteria.qza"
   ]
  },
  {
   "cell_type": "code",
   "execution_count": null,
   "id": "a64a7665-cc13-4513-833c-0845ca587bc6",
   "metadata": {
    "tags": []
   },
   "outputs": [],
   "source": [
    "mosh sourmash compare \\\n",
    "    --i-min-hash-signature $data_dir/mags-hashes-bacteria.qza \\\n",
    "    --p-ksize 105 \\\n",
    "    --o-compare-output $data_dir/mags-dist-bacteria.qza"
   ]
  },
  {
   "cell_type": "code",
   "execution_count": null,
   "id": "f160cb9b",
   "metadata": {},
   "outputs": [],
   "source": [
    "mosh annotate dereplicate-mags \\\n",
    "    --i-mags $data_dir/mags_filtered_bacteria_50.qza \\\n",
    "    --i-distance-matrix $data_dir/mags-dist-bacteria.qza \\\n",
    "    --p-threshold 0.7 \\\n",
    "    --o-dereplicated-mags $data_dir/mags-derep-bacteria.qza \\\n",
    "    --o-table $data_dir/mags-table-derep-bacteria.qza"
   ]
  },
  {
   "cell_type": "markdown",
   "id": "8b24eefb",
   "metadata": {},
   "source": [
    "## 2. Archaea"
   ]
  },
  {
   "cell_type": "code",
   "execution_count": null,
   "id": "20f0a843",
   "metadata": {},
   "outputs": [],
   "source": [
    "mosh sourmash compute \\\n",
    "    --i-sequence-file $data_dir/mags_filtered_archaea_50.qza \\\n",
    "    --p-ksizes 105 \\\n",
    "    --p-scaled 100 \\\n",
    "    --o-min-hash-signature $data_dir/mags-hashes-archaea.qza"
   ]
  },
  {
   "cell_type": "code",
   "execution_count": null,
   "id": "fcbe12a7",
   "metadata": {},
   "outputs": [],
   "source": [
    "mosh sourmash compare \\\n",
    "    --i-min-hash-signature $data_dir/mags-hashes-archaea.qza \\\n",
    "    --p-ksize 105 \\\n",
    "    --o-compare-output $data_dir/mags-dist-archaea.qza"
   ]
  },
  {
   "cell_type": "code",
   "execution_count": null,
   "id": "a87f51de",
   "metadata": {},
   "outputs": [],
   "source": [
    "mosh annotate dereplicate-mags \\\n",
    "    --i-mags $data_dir/mags_filtered_archaea_50.qza \\\n",
    "    --i-distance-matrix $data_dir/mags-dist-archaea.qza \\\n",
    "    --p-threshold 0.7 \\\n",
    "    --o-dereplicated-mags $data_dir/mags-derep-archaea.qza \\\n",
    "    --o-table $data_dir/mags-table-derep-archaea.qza"
   ]
  },
  {
   "cell_type": "markdown",
   "id": "59954337",
   "metadata": {},
   "source": [
    "## 3. Fungi"
   ]
  },
  {
   "cell_type": "code",
   "execution_count": null,
   "id": "739be76c",
   "metadata": {},
   "outputs": [],
   "source": [
    "mosh sourmash compute \\\n",
    "    --i-sequence-file $data_dir/mags_filtered_all_fungi.qza \\\n",
    "    --p-ksizes 105 \\\n",
    "    --p-scaled 100 \\\n",
    "    --o-min-hash-signature $data_dir/mags-hashes-fungi.qza"
   ]
  },
  {
   "cell_type": "code",
   "execution_count": null,
   "id": "d68ea730",
   "metadata": {},
   "outputs": [],
   "source": [
    "mosh sourmash compare \\\n",
    "    --i-min-hash-signature $data_dir/mags-hashes-fungi.qza \\\n",
    "    --p-ksize 105 \\\n",
    "    --o-compare-output $data_dir/mags-dist-fungi.qza"
   ]
  },
  {
   "cell_type": "code",
   "execution_count": null,
   "id": "3503c14f",
   "metadata": {},
   "outputs": [],
   "source": [
    "mosh annotate dereplicate-mags \\\n",
    "    --i-mags $data_dir/mags_filtered_all_fungi.qza \\\n",
    "    --i-distance-matrix $data_dir/mags-dist-fungi.qza \\\n",
    "    --p-threshold 0.7 \\\n",
    "    --o-dereplicated-mags $data_dir/mags-derep-fungi.qza \\\n",
    "    --o-table $data_dir/mags-table-derep-fungi.qza"
   ]
  },
  {
   "cell_type": "markdown",
   "id": "4554daab",
   "metadata": {},
   "source": [
    "## 4. Merging all dereplicated MAGs\n",
    "\n",
    "we collated all three dereplicated MAGs files for the proceeding steps (abundance estimation and functionnal annotation)"
   ]
  },
  {
   "cell_type": "code",
   "execution_count": null,
   "id": "7cb27005",
   "metadata": {},
   "outputs": [],
   "source": [
    "qiime types collate-feature-data-mags \\\n",
    "  --i-mags $data_dir/mags-derep-bacteria.qza \\\n",
    "  --i-mags $data_dir/mags-derep-archaea.qza \\\n",
    "  --i-mags $data_dir/mags-derep-fungi.qza \\\n",
    "  --o-collated-mags $data_dir/mags_filtered_all_domains.qza"
   ]
  }
 ],
 "metadata": {
  "kernelspec": {
   "display_name": "QIIME 2",
   "language": "python",
   "name": "python3"
  },
  "language_info": {
   "codemirror_mode": {
    "name": "ipython",
    "version": 3
   },
   "file_extension": ".py",
   "mimetype": "text/x-python",
   "name": "python",
   "nbconvert_exporter": "python",
   "pygments_lexer": "ipython3",
   "version": "3.10.14"
  }
 },
 "nbformat": 4,
 "nbformat_minor": 5
}
