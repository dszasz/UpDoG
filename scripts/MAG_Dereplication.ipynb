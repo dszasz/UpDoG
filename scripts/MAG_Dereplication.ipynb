{
 "cells": [
  {
   "cell_type": "markdown",
   "id": "214141c3-8a10-4bf6-8adc-7d321630aaf8",
   "metadata": {},
   "source": [
    "<a id='dereplication'></a>\n",
    "## 5. MAG dereplication\n",
    "Since our samples were generated from the same mock community (i.e., we know they most likely contain the same set of genomes), we can simplify our MAG collection by performing __dereplication__, similarly to how you do it for 16S amplicon sequences (remember previous week?). To dereplicate our MAGs, we will:\n",
    "1. compute hash sketches of every genome using [sourmash](https://sourmash.readthedocs.io/en/latest/) - you can think of those sketches as tiny representations of our genomes (_sourmash_ compresses a lot of information into much smaller space)\n",
    "2. compare all of those sketches (genomes) to one another to generate a matrix of pairwise distances between our MAGs\n",
    "3. dereplicate the genomes using the distance matrix and a fixed similarity threshold: the last action will simply choose the most complete genome from all of the genomes belonging to the same cluster, given a similarity threshold"
   ]
  },
  {
   "cell_type": "code",
   "execution_count": null,
   "id": "5a9a3bc9-d463-4d4e-93eb-82a4c9bcf13e",
   "metadata": {
    "tags": []
   },
   "outputs": [],
   "source": [
    "mosh sourmash compute \\\n",
    "    --i-sequence-file $data_dir/mags_filtered_all.qza \\\n",
    "    --p-ksizes 105 \\\n",
    "    --p-scaled 100 \\\n",
    "    --o-min-hash-signature $data_dir/mags-hashes.qza"
   ]
  },
  {
   "cell_type": "code",
   "execution_count": null,
   "id": "a64a7665-cc13-4513-833c-0845ca587bc6",
   "metadata": {
    "tags": []
   },
   "outputs": [],
   "source": [
    "mosh sourmash compare \\\n",
    "    --i-min-hash-signature $data_dir/mags-hashes.qza \\\n",
    "    --p-ksize 105 \\\n",
    "    --o-compare-output $data_dir/mags-dist.qza"
   ]
  },
  {
   "cell_type": "code",
   "execution_count": null,
   "id": "9cf2dcf4-effc-401c-a25c-d4e995307dc5",
   "metadata": {
    "tags": []
   },
   "outputs": [],
   "source": [
    "mosh annotate dereplicate-mags \\\n",
    "    --i-mags $data_dir/mags-filtered.qza \\\n",
    "    --i-distance-matrix $data_dir/mags-dist.qza \\\n",
    "    --m-metadata-file $data_dir/busco-results.qza \\\n",
    "    --p-metadata-column \"completeness\" \\\n",
    "    --p-threshold 0.7 \\\n",
    "    --o-dereplicated-mags $data_dir/mags-derep.qza \\\n",
    "    --o-table $data_dir/mags-table-pa.qza"
   ]
  }
 ],
 "metadata": {
  "kernelspec": {
   "display_name": "QIIME 2",
   "language": "python",
   "name": "python3"
  },
  "language_info": {
   "codemirror_mode": {
    "name": "ipython",
    "version": 3
   },
   "file_extension": ".py",
   "mimetype": "text/x-python",
   "name": "python",
   "nbconvert_exporter": "python",
   "pygments_lexer": "ipython3",
   "version": "3.10.14"
  }
 },
 "nbformat": 4,
 "nbformat_minor": 5
}
