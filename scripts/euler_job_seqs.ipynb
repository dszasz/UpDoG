{
 "cells": [
  {
   "cell_type": "markdown",
   "id": "c4aa0ebe-4130-4903-9e44-948832de1c8a",
   "metadata": {},
   "source": [
    "for the sequences"
   ]
  },
  {
   "cell_type": "code",
   "execution_count": null,
   "id": "3e7afdce-78a1-4f21-a776-5a2381cfc00a",
   "metadata": {},
   "outputs": [],
   "source": []
  }
 ],
 "metadata": {
  "kernelspec": {
   "display_name": "QIIME 2",
   "language": "python",
   "name": "python3"
  },
  "language_info": {
   "codemirror_mode": {
    "name": "ipython",
    "version": 3
   },
   "file_extension": ".py",
   "mimetype": "text/x-python",
   "name": "python",
   "nbconvert_exporter": "python",
   "pygments_lexer": "ipython3",
   "version": "3.10.14"
  }
 },
 "nbformat": 4,
 "nbformat_minor": 5
}
