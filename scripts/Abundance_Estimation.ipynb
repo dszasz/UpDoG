{
 "cells": [
  {
   "cell_type": "markdown",
   "id": "6ddb71d6-c977-4bef-9f72-d7751891947f",
   "metadata": {},
   "source": [
    "# Abundance Estimation with seqs.qza"
   ]
  },
  {
   "cell_type": "markdown",
   "id": "81034814-bf32-487b-b4e3-f40482accde4",
   "metadata": {},
   "source": [
    "After dereplication we are left with a single file \"mags_derep_all_domains.qza\". This file is then subject to abundance estimation with the already existing file \"updog_seqs.qza\".\n"
   ]
  },
  {
   "cell_type": "markdown",
   "id": "3401161e-53f4-4c6c-a70d-6d065e085c48",
   "metadata": {
    "execution": {
     "iopub.execute_input": "2025-10-30T15:43:39.393282Z",
     "iopub.status.busy": "2025-10-30T15:43:39.392523Z",
     "iopub.status.idle": "2025-10-30T15:43:39.396383Z",
     "shell.execute_reply": "2025-10-30T15:43:39.395781Z",
     "shell.execute_reply.started": "2025-10-30T15:43:39.393251Z"
    },
    "tags": []
   },
   "source": [
    "### Workflow"
   ]
  },
  {
   "cell_type": "markdown",
   "id": "1adf3618-8b53-4131-ae8b-51421eb2322f",
   "metadata": {},
   "source": [
    "Once we recover MAGs from metagenomic data, we may be interested in estimating their abundance in the samples. We can do it by mapping the original reads (updog_seqs.qza) to the dereplicated MAGs (mags_derep_all_domains.qza) and calculating the abundance based on the read mapping results. There are a couple of ways to estimate MAG abundance, such as RPKM (Reads Per Kilobase per Million mapped reads) and TPM (Transcripts Per Million). Here we will use TPM to estimate the abundance of each MAG in all samples."
   ]
  },
  {
   "cell_type": "markdown",
   "id": "d084c845-e439-4659-8e9e-ba1a88f0f28c",
   "metadata": {
    "execution": {
     "iopub.execute_input": "2025-10-30T15:49:41.505524Z",
     "iopub.status.busy": "2025-10-30T15:49:41.504692Z",
     "iopub.status.idle": "2025-10-30T15:49:41.508066Z",
     "shell.execute_reply": "2025-10-30T15:49:41.507479Z",
     "shell.execute_reply.started": "2025-10-30T15:49:41.505495Z"
    },
    "tags": []
   },
   "source": [
    "### 1. Get MAG Lentgth"
   ]
  },
  {
   "cell_type": "markdown",
   "id": "1697c95c-b9d2-416f-b972-c54b4137af63",
   "metadata": {},
   "source": [
    "This step calculates the lengths of each dereplicated MAG, which will be used in the next step to estimate abundance."
   ]
  },
  {
   "cell_type": "code",
   "execution_count": null,
   "id": "88570b2f-1799-43e3-baa2-9c9eb75da360",
   "metadata": {},
   "outputs": [],
   "source": [
    "mosh annotate get-feature-lengths \\\n",
    "    --i-features ./mags_derep_all_domains.qza \\              \n",
    "    --o-lengths ./mags_derep_all_domains_length.qza \\ #not sure if .qza necessary here "
   ]
  },
  {
   "cell_type": "markdown",
   "id": "dec335b1-2489-4fe7-958f-68c30051e82f",
   "metadata": {},
   "source": [
    "### 2. Index dereplicated MAGs"
   ]
  },
  {
   "cell_type": "markdown",
   "id": "6520c9a6-215c-486e-96d6-8ed2abd805a6",
   "metadata": {},
   "source": [
    "This step indexes the dereplicated MAGs for read mapping. The index is necessary to efficiently map the input reads back to the MAGs."
   ]
  },
  {
   "cell_type": "code",
   "execution_count": null,
   "id": "6b17c2da-8b18-4ef4-8b0e-e72d9e4b4ffb",
   "metadata": {},
   "outputs": [],
   "source": [
    "mosh assembly index-derep-mags \\\n",
    "    --i-mags ./mags_derep_all_domains.qza \\                  \n",
    "    --p-threads 8 \\  \n",
    "    --p-seed 100 \\    #check parameter settings                               \n",
    "    --o-index ./mags_derep_all_domains_index.qza \\                            "
   ]
  },
  {
   "cell_type": "markdown",
   "id": "ee52fc38-9061-492f-a88e-ae6be581a146",
   "metadata": {},
   "source": [
    "### 3. Map reads to dereplicated MAGs\n",
    "\n",
    "In this step, we map the input paired-end reads back to the dereplicated MAGs. This helps in calculating the abundance of each MAG in the sample."
   ]
  },
  {
   "cell_type": "code",
   "execution_count": null,
   "id": "7b12a31f-ee13-4978-9f34-22a0f4af79cc",
   "metadata": {},
   "outputs": [],
   "source": [
    "mosh assembly map-reads \\\n",
    "    --i-index ./mags_derep_all_domains_index.qza \\                            \n",
    "    --i-reads ./reads_filtered.qza \\   #not sure wich file \n",
    "    --p-threads 8 \\  \n",
    "    --p-seed 100 \\                  \n",
    "    --o-alignment-maps ./reads_to_derep_mags.qza \\"
   ]
  },
  {
   "cell_type": "markdown",
   "id": "ef5a938a-ec1f-49dd-a0cf-3b52de73c486",
   "metadata": {},
   "source": [
    "### 4. Estimate MAG abundance\n",
    "\n",
    "This step estimates the abundance of each MAG in the sample based on the read mapping results.\n",
    "\n",
    "metric : TPM (Transcripts Per Million)\n",
    "\n",
    "min-mapq : indicates the minimum required read mapping quality — for Bowtie2, 42 will allow only perfect matches to be retained\n",
    "\n",
    "min-base-quality : only keep alignments with this minimal Phred quality score"
   ]
  },
  {
   "cell_type": "code",
   "execution_count": null,
   "id": "298dd096-0ab6-4fcf-97ac-084dc085505d",
   "metadata": {},
   "outputs": [],
   "source": [
    "mosh annotate estimate-abundance \\\n",
    "    --i-feature-lengths ./mags_derep_all_domains_length.qza \\\n",
    "    --i-alignment-maps ./reads_to_derep_mags.qza \\\n",
    "    --p-threads 10 \\\n",
    "    --p-metric tpm \\\n",
    "    --p-min-mapq 42 \\\n",
    "    --o-abundances ./mags_derep_ft.qza \\"
   ]
  },
  {
   "cell_type": "markdown",
   "id": "04283497-04a4-4407-87e2-af97808728d5",
   "metadata": {
    "execution": {
     "iopub.execute_input": "2025-10-30T16:16:15.239973Z",
     "iopub.status.busy": "2025-10-30T16:16:15.239553Z",
     "iopub.status.idle": "2025-10-30T16:16:15.243465Z",
     "shell.execute_reply": "2025-10-30T16:16:15.242740Z",
     "shell.execute_reply.started": "2025-10-30T16:16:15.239948Z"
    },
    "tags": []
   },
   "source": [
    "### 5. Looking at estimated MAG Abundance"
   ]
  },
  {
   "cell_type": "code",
   "execution_count": null,
   "id": "cb03017d-c8f1-4ba8-9b5e-078db5982a96",
   "metadata": {},
   "outputs": [],
   "source": [
    "mosh annotate classify-kraken2 \\\n",
    "    --i-seqs ./mags_derep_all_domains.qza \\\n",
    "    --i-db ./kraken2_db \\\n",
    "    --p-threads 40 \\\n",
    "    --p-confidence 0.5 \\\n",
    "    --p-report-minimizer-data \\\n",
    "    --o-reports ./kraken_reports_mags_derep.qua \\\n",
    "    --o-outputs ./kraken_hits_mags_derep.qza \\"
   ]
  },
  {
   "cell_type": "markdown",
   "id": "301894f4-46ce-441f-ac07-5828c99dfd3a",
   "metadata": {},
   "source": [
    "Then we will convert a Kraken 2 report into a generic taxonomy artifact for downstream analyses."
   ]
  },
  {
   "cell_type": "code",
   "execution_count": null,
   "id": "5f9d47ff-d47c-4456-bf51-af43eccb9d69",
   "metadata": {},
   "outputs": [],
   "source": [
    "mosh annotate kraken2-to-mag-features \\\n",
    "    --i-reports ./kraken_reports_mags_derep.qza  \\\n",
    "    --i-outputs ./kraken_hits_mags_derep.qza  \\\n",
    "    --o-taxonomy ./mags_derep_taxonomy.qza \\"
   ]
  },
  {
   "cell_type": "markdown",
   "id": "0025de8c-b4a4-4607-9a41-7e5daa698115",
   "metadata": {},
   "source": [
    "Now we are ready to generate a taxa bar plot."
   ]
  },
  {
   "cell_type": "code",
   "execution_count": null,
   "id": "db7dbd9d-24ea-4618-bdd9-8710cb3c1833",
   "metadata": {},
   "outputs": [],
   "source": [
    "mosh taxa barplot \\\n",
    "    --i-table ./mags_derep_ft.qza \\ #generated in Step 4.\n",
    "    --i-taxonomy ./mags_derep_taxonomy.qza \\\n",
    "    --m-metadata-file ./cocoa-metadata.tsv \\\n",
    "    --o-visualization ./results/mags-derep-taxa-bar-plot.qzv \\"
   ]
  },
  {
   "cell_type": "code",
   "execution_count": null,
   "id": "2f1c149d-7132-4325-8956-f7549dcd2e26",
   "metadata": {},
   "outputs": [],
   "source": [
    "Visualization.load(f\"{data_dir}/mags-derep-taxa-bar-plot.qzv\")"
   ]
  }
 ],
 "metadata": {
  "kernelspec": {
   "display_name": "QIIME 2",
   "language": "python",
   "name": "python3"
  },
  "language_info": {
   "codemirror_mode": {
    "name": "ipython",
    "version": 3
   },
   "file_extension": ".py",
   "mimetype": "text/x-python",
   "name": "python",
   "nbconvert_exporter": "python",
   "pygments_lexer": "ipython3",
   "version": "3.10.14"
  }
 },
 "nbformat": 4,
 "nbformat_minor": 5
}
