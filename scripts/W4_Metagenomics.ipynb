{
 "cells": [
  {
   "cell_type": "markdown",
   "id": "fda294d5-0a18-442a-b913-57f202cbf9a2",
   "metadata": {},
   "source": [
    "# Week 4: Shotgun metagenomics - MAG recovery\n",
    "\n",
    "This week we are turning our attention to analysis of shotgun metagenomic datasets. Unlike amplicon data, metagenomes allow us to get a glimpse into not only composition but also functional potential of microbial communities.\n",
    "\n",
    "Analysis of real-world shotgun metagenome data is usually time-consuming and very resource-intensive. For this reason, in this week's assignment we will try a simplified analysis of shotgun metagenomes obtained by simulation of paired-end reads from a mock community with known composition. In week 10, we will turn our attention to metagenomic data inference from 16S rRNA gene sequences using PICRUSt2.\n",
    "\n",
    "We will start by assembling metagenomes using paired-end reads obtained for four samples from a mock community. We have pre-selected some species and generated reads from their genomes - it will be your task to assemble genomes from those reads and try to identify which microorganisms they belong to."
   ]
  },
  {
   "cell_type": "markdown",
   "id": "b30e026e-bee7-4f4e-b954-3a604b8b5f25",
   "metadata": {},
   "source": [
    "<a id='setup'></a>\n",
    "## 0. Setup"
   ]
  },
  {
   "cell_type": "code",
   "execution_count": 1,
   "id": "17b68a6e-3546-4fd1-a363-d3ed5fe6e91b",
   "metadata": {
    "execution": {
     "iopub.execute_input": "2025-10-06T08:28:56.920849Z",
     "iopub.status.busy": "2025-10-06T08:28:56.919789Z",
     "iopub.status.idle": "2025-10-06T08:28:58.678345Z",
     "shell.execute_reply": "2025-10-06T08:28:58.677142Z",
     "shell.execute_reply.started": "2025-10-06T08:28:56.920796Z"
    },
    "tags": []
   },
   "outputs": [],
   "source": [
    "import pandas as pd\n",
    "import qiime2 as q2\n",
    "import seaborn as sns\n",
    "\n",
    "import matplotlib.pyplot as plt\n",
    "%matplotlib inline\n",
    "\n",
    "data_dir = 'w4_data'"
   ]
  },
  {
   "cell_type": "code",
   "execution_count": 2,
   "id": "89a109f2-1926-4a8d-a013-39c5dc0a7db7",
   "metadata": {
    "execution": {
     "iopub.execute_input": "2025-10-06T08:28:58.679927Z",
     "iopub.status.busy": "2025-10-06T08:28:58.679606Z",
     "iopub.status.idle": "2025-10-06T08:28:58.692384Z",
     "shell.execute_reply": "2025-10-06T08:28:58.691527Z",
     "shell.execute_reply.started": "2025-10-06T08:28:58.679909Z"
    },
    "tags": []
   },
   "outputs": [],
   "source": [
    "%%bash -s $data_dir\n",
    "# Please do NOT modify this cell\n",
    "\n",
    "mkdir -p \"$1\""
   ]
  },
  {
   "cell_type": "markdown",
   "id": "c5ef4e79-7057-4658-8187-b723cb791b86",
   "metadata": {},
   "source": [
    "**Note on file locations:**<br>\n",
    "File required for today's exercise can be found at two different locations:\n",
    "- `w4_data` directory (just as every other week so far) - those live directly in your JupyterHub workspace\n",
    "- `/data/w4_data` directory - this location is only _attached_ to your workspace, i.e. you do not have a copy of those in your workspaace - this is due to large size of some of those files (particularly some databases)\n",
    "\n",
    "You don't need to worry about those, though. If you create any files yourself, just save them to the `data_dir` directory, as usual. The rest is being taken care of by the code we provided you with."
   ]
  },
  {
   "cell_type": "markdown",
   "id": "ac1683c4-fdf4-486d-b2f7-1f7d6511704a",
   "metadata": {},
   "source": [
    "<a id='assembly'></a>\n",
    "## 1. Genome assembly\n",
    "The first step in recovering metagenome-assembled genomes (MAGs) is genome assembly itself. There are many genome assemblers available, two of which you can use through our QIIME 2 plugin - here, we will use [MEGAHIT](https://github.com/voutcn/megahit). MEGAHIT takes short DNA sequencing reads, constructs a simplified [De Bruijn graph](https://en.wikipedia.org/wiki/De_Bruijn_graph), and generates longer contiguous sequences called **contigs**, providing valuable genetic information for the next steps of our analysis.\n",
    "\n",
    "**Note:** this step will take ~45min so get yourself a coffee!"
   ]
  },
  {
   "cell_type": "code",
   "execution_count": null,
   "id": "bda215ed-8ed2-420e-b736-792df21082f7",
   "metadata": {
    "execution": {
     "iopub.execute_input": "2025-10-01T09:38:54.446933Z",
     "iopub.status.busy": "2025-10-01T09:38:54.446724Z"
    },
    "tags": []
   },
   "outputs": [
    {
     "name": "stdout",
     "output_type": "stream",
     "text": [
      "/opt/conda/lib/python3.10/site-packages/unifrac/__init__.py:9: UserWarning: pkg_resources is deprecated as an API. See https://setuptools.pypa.io/en/latest/pkg_resources.html. The pkg_resources package is slated for removal as early as 2025-11-30. Refrain from using this package or pin to Setuptools<81.\n",
      "  import pkg_resources\n"
     ]
    }
   ],
   "source": [
    "! qiime assembly assemble-megahit \\\n",
    "    --i-reads  /data/$data_dir/reads.qza \\\n",
    "    --p-presets meta-sensitive \\\n",
    "    --p-num-cpu-threads 3 \\\n",
    "    --o-contigs $data_dir/contigs.qza"
   ]
  },
  {
   "cell_type": "markdown",
   "id": "13e684b8-fec5-4b8f-ac14-7093bc99100b",
   "metadata": {},
   "source": [
    "Once the reads are assembled into contigs, we can use QUAST to evaluate the quality of our assembly. There are many metrics which can be used for that purpose but here we will focus on the two most popular [metrics](https://en.wikipedia.org/wiki/N50,_L50,_and_related_statistics):\n",
    "- **N50**: represents the contiguity of a genome assembly. It's defined as the length of the contig (or scaffold) at which 50% of the entire genome is covered by contigs of that length or longer - the higher this number, the better.\n",
    "- **L50**: represents the number of contigs required to cover 50% of the genome's total length - the smaller this number, the better.\n",
    "\n",
    "In addition to calculating generic statistics like N50 and L50, QUAST will try to identify potential genomes from which the analyzed contigs originated. Alternatively, we can provide it with a set of reference genomes we would like it to run the analysis against. Since we generated the reads from an \"artificial\" mock community, we will provide the reference sequences for those genomes - this will save us a bit of work and time. Run the following cell to assess the quality of contigs assembled in the previous step: "
   ]
  },
  {
   "cell_type": "code",
   "execution_count": null,
   "id": "adc2d293-1c70-4dca-887a-4fa2e7ff57bf",
   "metadata": {
    "tags": []
   },
   "outputs": [],
   "source": [
    "! qiime assembly evaluate-quast \\\n",
    "    --i-contigs $data_dir/contigs.qza \\\n",
    "    --i-references /data/$data_dir/ref-seqs.qza \\\n",
    "    --p-min-contig 500 \\\n",
    "    --p-threads 3 \\\n",
    "    --o-reference-genomes $data_dir/ref-genomes.qza \\\n",
    "    --o-visualization $data_dir/contigs.qzv \\\n",
    "    --o-results-table $data_dir/quast-results.qza"
   ]
  },
  {
   "cell_type": "code",
   "execution_count": 3,
   "id": "c34c8fa5-c502-4f9c-a8b0-7c661141c12d",
   "metadata": {
    "execution": {
     "iopub.execute_input": "2025-10-06T08:29:02.355063Z",
     "iopub.status.busy": "2025-10-06T08:29:02.354361Z",
     "iopub.status.idle": "2025-10-06T08:29:03.788642Z",
     "shell.execute_reply": "2025-10-06T08:29:03.787449Z",
     "shell.execute_reply.started": "2025-10-06T08:29:02.355011Z"
    },
    "tags": []
   },
   "outputs": [
    {
     "data": {
      "text/html": [
       "<div><img onload=\"(function(div, url){\n",
       "if (typeof require !== 'undefined') {\n",
       "    var baseURL = require.toUrl('').split('/').slice(0, -2).join('/');\n",
       "} else {\n",
       "    var baseURL = JSON.parse(\n",
       "        document.getElementById('jupyter-config-data').innerHTML\n",
       "    ).baseUrl.slice(0, -1);\n",
       "}\n",
       "url = baseURL + url;\n",
       "fetch(url).then(function(res) {\n",
       "    if (res.status === 404) {\n",
       "        div.innerHTML = 'Install QIIME 2 Jupyter extension with:<br />' +\n",
       "                        '<code>jupyter server extension enable --py qiime2' +\n",
       "                        ' --sys-prefix</code><br />then restart your server.' +\n",
       "                        '<br /><br />(Interactive output not available on ' +\n",
       "                        'static notebook viewer services like nbviewer.)';\n",
       "    } else if (res.status === 409) {\n",
       "        div.innerHTML = 'Visualization no longer in scope. Re-run this cell' +\n",
       "                        ' to see the visualization.';\n",
       "    } else if (res.ok) {\n",
       "        url = res.url;\n",
       "        div.innerHTML = '<iframe src=\\'' + url + '\\' style=\\'' +\n",
       "                        'width: 100%; height: 700px; border: 0;\\'>' +\n",
       "                        '</iframe><hr />Open in a: <a href=\\'' + url + '\\'' +\n",
       "                        ' target=\\'_blank\\'>new window</a>'\n",
       "    } else {\n",
       "        div.innerHTML = 'Something has gone wrong. Check notebook server for' +\n",
       "                        ' errors.';\n",
       "    }\n",
       "});\n",
       "})(this.parentElement, '/qiime2/redirect?location=/tmp/qiime2/jovyan/data/a5afab80-aabf-4637-9521-d6111b2d444f')\" src=\"data:image/gif;base64,R0lGODlhAQABAIAAAP///wAAACH5BAEAAAAALAAAAAABAAEAAAICRAEAOw==\" /></div>"
      ],
      "text/plain": [
       "<visualization: Visualization uuid: a5afab80-aabf-4637-9521-d6111b2d444f>"
      ]
     },
     "execution_count": 3,
     "metadata": {},
     "output_type": "execute_result"
    }
   ],
   "source": [
    "q2.Visualization.load(f\"{data_dir}/contigs.qzv\")"
   ]
  },
  {
   "cell_type": "markdown",
   "id": "2aae1578-58d5-4a14-b258-107b72bdd0bc",
   "metadata": {},
   "source": [
    "There are many things to look at in this visualization! Don't worry, it is not our goal to try to understand all of that information, though. Let's focus on the metrics we mentioned above - you will find them on the \"QC report\" tab, in the colorful table right above the plot. Click on the \"Extended report\" and use the values you find there to answer the checkpoint questions below.  "
   ]
  },
  {
   "cell_type": "markdown",
   "id": "e4447d76-dddd-4a2a-aa37-c8d20e96d5f8",
   "metadata": {},
   "source": [
    "<div style=\"background-color: aliceblue; padding: 10px;\">\n",
    "    \n",
    "**Checkpoint A**\n",
    "\n",
    "1. Which of the samples has the highest N50 value?\n",
    "\n",
    "2. Which of the samples has the highest L50 value?\n",
    "\n",
    "3. Which of the samples has the highest number of mismatches per 100 kbp?\n",
    "\n",
    "4. What is the length of the largest contig in _sample2_?\n",
    "\n",
    "5. In your opinion, which of the samples represents the best assembly? Provide a short justification.\n",
    "</div>"
   ]
  },
  {
   "cell_type": "markdown",
   "id": "6cbfb297-f579-45ca-acd2-cb4bb7ca4ea5",
   "metadata": {
    "execution": {
     "iopub.execute_input": "2025-10-06T08:32:45.599643Z",
     "iopub.status.busy": "2025-10-06T08:32:45.595489Z",
     "iopub.status.idle": "2025-10-06T08:32:45.605159Z",
     "shell.execute_reply": "2025-10-06T08:32:45.603235Z",
     "shell.execute_reply.started": "2025-10-06T08:32:45.599588Z"
    },
    "tags": []
   },
   "source": [
    "**Answers Checkpoint A**\n",
    "\n",
    "1. *sample4* (84797)\n",
    "2. *sample1* (2758)\n",
    "3. *sample1* (307.3)\n",
    "4. 77570 bp\n",
    "5. Focusing on the two popular metrics, *sample4* represents the best assembly, since it has the lowest L50 and highest N50."
   ]
  },
  {
   "cell_type": "markdown",
   "id": "255f25b3-8736-4393-90a4-e3033454238e",
   "metadata": {},
   "source": [
    "<a id='mapping'></a>\n",
    "## 2. Read mapping\n",
    "Before we continue to assembling MAGs, we need to index the contigs obtained in the assembly step and map the original reads to those contigs using that index. This read mapping can then be used by the contig binner to figure out which contigs originated from the same genome and put those together. Execute the two cells below to run the contig indexing and read mapping actions (that should take only a few minutes):  "
   ]
  },
  {
   "cell_type": "code",
   "execution_count": 5,
   "id": "7eb30d16-eab1-4077-8974-21f132d30d5a",
   "metadata": {
    "execution": {
     "iopub.execute_input": "2025-10-03T09:06:47.521089Z",
     "iopub.status.busy": "2025-10-03T09:06:47.519659Z",
     "iopub.status.idle": "2025-10-03T09:08:28.929626Z",
     "shell.execute_reply": "2025-10-03T09:08:28.928349Z",
     "shell.execute_reply.started": "2025-10-03T09:06:47.521030Z"
    },
    "tags": []
   },
   "outputs": [
    {
     "name": "stdout",
     "output_type": "stream",
     "text": [
      "/opt/conda/lib/python3.10/site-packages/unifrac/__init__.py:9: UserWarning: pkg_resources is deprecated as an API. See https://setuptools.pypa.io/en/latest/pkg_resources.html. The pkg_resources package is slated for removal as early as 2025-11-30. Refrain from using this package or pin to Setuptools<81.\n",
      "  import pkg_resources\n",
      "\u001b[32mSaved SampleData[SingleBowtie2Index % Properties('contigs')] to: w4_data/contigs-index.qza\u001b[0m\n",
      "\u001b[0m\u001b[?25h"
     ]
    }
   ],
   "source": [
    "! qiime assembly index-contigs \\\n",
    "    --i-contigs $data_dir/contigs.qza \\\n",
    "    --p-threads 3 \\\n",
    "    --p-seed 100 \\\n",
    "    --o-index $data_dir/contigs-index.qza"
   ]
  },
  {
   "cell_type": "code",
   "execution_count": 6,
   "id": "61c29a95-81d1-400d-ab2b-93df9973e982",
   "metadata": {
    "execution": {
     "iopub.execute_input": "2025-10-03T09:08:28.932297Z",
     "iopub.status.busy": "2025-10-03T09:08:28.931855Z",
     "iopub.status.idle": "2025-10-03T09:20:32.487510Z",
     "shell.execute_reply": "2025-10-03T09:20:32.485069Z",
     "shell.execute_reply.started": "2025-10-03T09:08:28.932254Z"
    },
    "tags": []
   },
   "outputs": [
    {
     "name": "stdout",
     "output_type": "stream",
     "text": [
      "/opt/conda/lib/python3.10/site-packages/unifrac/__init__.py:9: UserWarning: pkg_resources is deprecated as an API. See https://setuptools.pypa.io/en/latest/pkg_resources.html. The pkg_resources package is slated for removal as early as 2025-11-30. Refrain from using this package or pin to Setuptools<81.\n",
      "  import pkg_resources\n",
      "\u001b[32mSaved SampleData[AlignmentMap] to: w4_data/reads-to-contigs-aln.qza\u001b[0m\n",
      "\u001b[0m\u001b[?25h"
     ]
    }
   ],
   "source": [
    "! qiime assembly map-reads \\\n",
    "    --i-index $data_dir/contigs-index.qza \\\n",
    "    --i-reads /data/$data_dir/reads.qza \\\n",
    "    --p-threads 3 \\\n",
    "    --p-seed 100 \\\n",
    "    --o-alignment-maps $data_dir/reads-to-contigs-aln.qza"
   ]
  },
  {
   "cell_type": "markdown",
   "id": "e9f5b670-9cdf-415d-acb7-ee899a01f9e1",
   "metadata": {},
   "source": [
    "<a id='binning'></a>\n",
    "## 3. Contig binning\n",
    "Finally, we are ready to perform contig binning. This process involves categorizing contigs into distinct bins or groups based on their likely origin from different microbial species or strains within a mixed community. Here, we will use the [MetaBAT 2](https://www.ncbi.nlm.nih.gov/pmc/articles/PMC6662567/) tool, which uses tetranucleotide frequency together with abundance (coverage) information to assign contigs to individual bins. "
   ]
  },
  {
   "cell_type": "code",
   "execution_count": 7,
   "id": "11c68f8b-6083-4703-af20-9c6266c07c89",
   "metadata": {
    "execution": {
     "iopub.execute_input": "2025-10-03T09:20:32.492022Z",
     "iopub.status.busy": "2025-10-03T09:20:32.491375Z",
     "iopub.status.idle": "2025-10-03T09:22:33.817867Z",
     "shell.execute_reply": "2025-10-03T09:22:33.816126Z",
     "shell.execute_reply.started": "2025-10-03T09:20:32.491964Z"
    },
    "tags": []
   },
   "outputs": [
    {
     "name": "stdout",
     "output_type": "stream",
     "text": [
      "/opt/conda/lib/python3.10/site-packages/unifrac/__init__.py:9: UserWarning: pkg_resources is deprecated as an API. See https://setuptools.pypa.io/en/latest/pkg_resources.html. The pkg_resources package is slated for removal as early as 2025-11-30. Refrain from using this package or pin to Setuptools<81.\n",
      "  import pkg_resources\n",
      "\u001b[32mSaved SampleData[MAGs] to: w4_data/mags.qza\u001b[0m\n",
      "\u001b[32mSaved FeatureMap[MAGtoContigs] to: w4_data/contig-map.qza\u001b[0m\n",
      "\u001b[32mSaved SampleData[Contigs % Properties('unbinned')] to: w4_data/unbinned-contigs.qza\u001b[0m\n",
      "\u001b[0m\u001b[?25h"
     ]
    }
   ],
   "source": [
    "! qiime annotate bin-contigs-metabat \\\n",
    "    --i-contigs $data_dir/contigs.qza \\\n",
    "    --i-alignment-maps $data_dir/reads-to-contigs-aln.qza \\\n",
    "    --p-num-threads 3 \\\n",
    "    --p-seed 100 \\\n",
    "    --o-mags $data_dir/mags.qza \\\n",
    "    --o-contig-map $data_dir/contig-map.qza \\\n",
    "    --o-unbinned-contigs $data_dir/unbinned-contigs.qza"
   ]
  },
  {
   "cell_type": "markdown",
   "id": "6e8de00f-628b-4b67-affb-e20e63d8c65c",
   "metadata": {},
   "source": [
    "<a id='mag_qc'></a>\n",
    "## 4. MAG quality control\n",
    "The previous steps generated a couple artifacts:\n",
    "- `mags.qza`: these are our actual MAGS, per sample\n",
    "- `contig-map.qza`: this is a mapping between MAG IDs and IDs of contigs which belong to a given MAG\n",
    "- `unbinned-contigs.qza`: these are all the contigs that could not be assign to any particular MAG\n",
    "\n",
    "Once we have our contigs binned into Metagenome-Assembled Genomes (MAGs), we need to check what the quality of those bins is. There are a couple of diffeernt tools which can be used for this purpose, many of which use the single-copy marker genes to estimate the completeness and purity (or contamination) of the recovered genomes. Here, we will use [BUSCO](https://busco.ezlab.org/) which uses a set of curated ortholog genes to estimate those metrics.\n",
    "\n",
    "We begin by fetching the required BUSCO database: we know that all species in our samples are strictly bacteria so we can fetch only this lineage to save some space and resources:"
   ]
  },
  {
   "cell_type": "code",
   "execution_count": 8,
   "id": "59f474c5-7ade-467d-8db0-bbb84e0fb3de",
   "metadata": {
    "execution": {
     "iopub.execute_input": "2025-10-03T09:22:33.820964Z",
     "iopub.status.busy": "2025-10-03T09:22:33.820215Z",
     "iopub.status.idle": "2025-10-03T09:23:12.180231Z",
     "shell.execute_reply": "2025-10-03T09:23:12.178264Z",
     "shell.execute_reply.started": "2025-10-03T09:22:33.820877Z"
    },
    "tags": []
   },
   "outputs": [
    {
     "name": "stdout",
     "output_type": "stream",
     "text": [
      "/opt/conda/lib/python3.10/site-packages/unifrac/__init__.py:9: UserWarning: pkg_resources is deprecated as an API. See https://setuptools.pypa.io/en/latest/pkg_resources.html. The pkg_resources package is slated for removal as early as 2025-11-30. Refrain from using this package or pin to Setuptools<81.\n",
      "  import pkg_resources\n",
      "\u001b[32mSaved ReferenceDB[BUSCO] to: w4_data/busco-db-bacteria.qza\u001b[0m\n",
      "\u001b[0m\u001b[?25h"
     ]
    }
   ],
   "source": [
    "! qiime annotate fetch-busco-db \\\n",
    "    --p-lineages bacteria_odb12 \\\n",
    "    --o-db $data_dir/busco-db-bacteria.qza"
   ]
  },
  {
   "cell_type": "markdown",
   "id": "c1fff982-f20f-4d3f-831a-440bf4403164",
   "metadata": {},
   "source": [
    "Next, we use the database we fetched to run BUSCO with our recovered MAGs as input:"
   ]
  },
  {
   "cell_type": "code",
   "execution_count": 9,
   "id": "97398500-9ff9-43ec-93fa-fe5267f2e1da",
   "metadata": {
    "execution": {
     "iopub.execute_input": "2025-10-03T09:23:12.185457Z",
     "iopub.status.busy": "2025-10-03T09:23:12.184337Z",
     "iopub.status.idle": "2025-10-03T09:26:39.102820Z",
     "shell.execute_reply": "2025-10-03T09:26:39.101984Z",
     "shell.execute_reply.started": "2025-10-03T09:23:12.185391Z"
    },
    "tags": []
   },
   "outputs": [
    {
     "name": "stdout",
     "output_type": "stream",
     "text": [
      "/opt/conda/lib/python3.10/site-packages/unifrac/__init__.py:9: UserWarning: pkg_resources is deprecated as an API. See https://setuptools.pypa.io/en/latest/pkg_resources.html. The pkg_resources package is slated for removal as early as 2025-11-30. Refrain from using this package or pin to Setuptools<81.\n",
      "  import pkg_resources\n",
      "\u001b[32mSaved BUSCOResults to: w4_data/busco-results.qza\u001b[0m\n",
      "\u001b[32mSaved Visualization to: w4_data/mags.qzv\u001b[0m\n",
      "\u001b[0m\u001b[?25h"
     ]
    }
   ],
   "source": [
    "! qiime annotate evaluate-busco \\\n",
    "    --i-mags $data_dir/mags.qza \\\n",
    "    --i-db $data_dir/busco-db-bacteria.qza \\\n",
    "    --p-lineage-dataset bacteria_odb12 \\\n",
    "    --p-cpu 3 \\\n",
    "    --o-results $data_dir/busco-results.qza \\\n",
    "    --o-visualization $data_dir/mags.qzv"
   ]
  },
  {
   "cell_type": "markdown",
   "id": "d80729c2-9cc7-42c6-828b-7a55a8cb518b",
   "metadata": {},
   "source": [
    "The action above generated a result table and a neat visualization which will allow us to investigate the quality of all of our genomes."
   ]
  },
  {
   "cell_type": "code",
   "execution_count": 5,
   "id": "776f4d2b-341f-4413-8df9-c40e874814e3",
   "metadata": {
    "execution": {
     "iopub.execute_input": "2025-10-06T08:44:27.387027Z",
     "iopub.status.busy": "2025-10-06T08:44:27.385708Z",
     "iopub.status.idle": "2025-10-06T08:44:27.499681Z",
     "shell.execute_reply": "2025-10-06T08:44:27.498129Z",
     "shell.execute_reply.started": "2025-10-06T08:44:27.386984Z"
    },
    "tags": []
   },
   "outputs": [
    {
     "data": {
      "text/html": [
       "<div><img onload=\"(function(div, url){\n",
       "if (typeof require !== 'undefined') {\n",
       "    var baseURL = require.toUrl('').split('/').slice(0, -2).join('/');\n",
       "} else {\n",
       "    var baseURL = JSON.parse(\n",
       "        document.getElementById('jupyter-config-data').innerHTML\n",
       "    ).baseUrl.slice(0, -1);\n",
       "}\n",
       "url = baseURL + url;\n",
       "fetch(url).then(function(res) {\n",
       "    if (res.status === 404) {\n",
       "        div.innerHTML = 'Install QIIME 2 Jupyter extension with:<br />' +\n",
       "                        '<code>jupyter server extension enable --py qiime2' +\n",
       "                        ' --sys-prefix</code><br />then restart your server.' +\n",
       "                        '<br /><br />(Interactive output not available on ' +\n",
       "                        'static notebook viewer services like nbviewer.)';\n",
       "    } else if (res.status === 409) {\n",
       "        div.innerHTML = 'Visualization no longer in scope. Re-run this cell' +\n",
       "                        ' to see the visualization.';\n",
       "    } else if (res.ok) {\n",
       "        url = res.url;\n",
       "        div.innerHTML = '<iframe src=\\'' + url + '\\' style=\\'' +\n",
       "                        'width: 100%; height: 700px; border: 0;\\'>' +\n",
       "                        '</iframe><hr />Open in a: <a href=\\'' + url + '\\'' +\n",
       "                        ' target=\\'_blank\\'>new window</a>'\n",
       "    } else {\n",
       "        div.innerHTML = 'Something has gone wrong. Check notebook server for' +\n",
       "                        ' errors.';\n",
       "    }\n",
       "});\n",
       "})(this.parentElement, '/qiime2/redirect?location=/tmp/qiime2/jovyan/data/099893d5-e1e6-4107-bb46-624407f78705')\" src=\"data:image/gif;base64,R0lGODlhAQABAIAAAP///wAAACH5BAEAAAAALAAAAAABAAEAAAICRAEAOw==\" /></div>"
      ],
      "text/plain": [
       "<visualization: Visualization uuid: 099893d5-e1e6-4107-bb46-624407f78705>"
      ]
     },
     "execution_count": 5,
     "metadata": {},
     "output_type": "execute_result"
    }
   ],
   "source": [
    "q2.Visualization.load(f\"{data_dir}/mags.qzv\")"
   ]
  },
  {
   "cell_type": "markdown",
   "id": "1fa7fa11-7e86-4e2e-98f2-534c99f5eb75",
   "metadata": {},
   "source": [
    "<div style=\"background-color: aliceblue; padding: 10px;\">\n",
    "    \n",
    "**Checkpoint B**\n",
    "\n",
    "1. In which of the samples could we recover the most MAGs that are at least 50% complete?\n",
    "\n",
    "2. Which of the samples has the smallest count of recovered MAGs?\n",
    "\n",
    "3. What is the best completeness score we were able to achieve across all samples?\n",
    "\n",
    "4. What is the length of the shortest recovered MAG?How complete is it?\n",
    "\n",
    "5. Compare the results you got here with the post-assembly quality control. Which of the samples, in your opinion, contains the best MAGs? Do the results correlate with the assembly quality?\n",
    "</div>"
   ]
  },
  {
   "cell_type": "markdown",
   "id": "0c0eacad-5118-4fd7-b7ea-cdade2dba0c8",
   "metadata": {},
   "source": [
    "**Answers to Checkpoint B**\n",
    "1. in *sample4*\n",
    "2. *sample1*\n",
    "3. 100%\n",
    "4. 340518 bp and is 0.9 complete\n",
    "5. *sample4* contains the best MAGs (has most MAGs with higher completeness and all the MAGs have a low contamination percentage). Those results correlate with the assembly quality but it happens that it's not always the case."
   ]
  },
  {
   "cell_type": "markdown",
   "id": "624912a2-2a0a-4ba2-954b-5570447786dd",
   "metadata": {},
   "source": [
    "Now that we evaluated the quality of our MAGs, we can use this information to filter out only the best ones. We do not want to continue with MAGs of low quality (not very complete or highly contaminated) as it may lead to incorrect results in the downstream analyses. We want to keep the MAGs which are at least 50% complete and have less than 10% contamination (these are considered to be of medium quality according to the [MIMAG standard](https://doi.org/10.1038/nbt.3893)). We can easily achieve this with the following action:"
   ]
  },
  {
   "cell_type": "code",
   "execution_count": 11,
   "id": "fb57f7b1-b750-4ca9-b0f8-2f2a1cb72675",
   "metadata": {
    "execution": {
     "iopub.execute_input": "2025-10-03T09:26:39.181437Z",
     "iopub.status.busy": "2025-10-03T09:26:39.181242Z",
     "iopub.status.idle": "2025-10-03T09:27:22.427442Z",
     "shell.execute_reply": "2025-10-03T09:27:22.425335Z",
     "shell.execute_reply.started": "2025-10-03T09:26:39.181420Z"
    },
    "tags": []
   },
   "outputs": [
    {
     "name": "stdout",
     "output_type": "stream",
     "text": [
      "/opt/conda/lib/python3.10/site-packages/unifrac/__init__.py:9: UserWarning: pkg_resources is deprecated as an API. See https://setuptools.pypa.io/en/latest/pkg_resources.html. The pkg_resources package is slated for removal as early as 2025-11-30. Refrain from using this package or pin to Setuptools<81.\n",
      "  import pkg_resources\n",
      "\u001b[32mSaved SampleData[MAGs] to: w4_data/mags-filtered.qza\u001b[0m\n",
      "\u001b[0m\u001b[?25h"
     ]
    }
   ],
   "source": [
    "! qiime annotate filter-mags \\\n",
    "    --i-mags $data_dir/mags.qza \\\n",
    "    --m-metadata-file $data_dir/busco-results.qza \\\n",
    "    --p-where \"completeness>50 AND contamination<10\" \\\n",
    "    --p-on \"mag\" \\\n",
    "    --o-filtered-mags $data_dir/mags-filtered.qza"
   ]
  },
  {
   "cell_type": "markdown",
   "id": "214141c3-8a10-4bf6-8adc-7d321630aaf8",
   "metadata": {},
   "source": [
    "<a id='dereplication'></a>\n",
    "## 5. MAG dereplication\n",
    "Since our samples were generated from the same mock community (i.e., we know they most likely contain the same set of genomes), we can simplify our MAG collection by performing __dereplication__, similarly to how you do it for 16S amplicon sequences (remember previous week?). To dereplicate our MAGs, we will:\n",
    "1. compute hash sketches of every genome using [sourmash](https://sourmash.readthedocs.io/en/latest/) - you can think of those sketches as tiny representations of our genomes (_sourmash_ compresses a lot of information into much smaller space)\n",
    "2. compare all of those sketches (genomes) to one another to generate a matrix of pairwise distances between our MAGs\n",
    "3. dereplicate the genomes using the distance matrix and a fixed similarity threshold: the last action will simply choose the most complete genome from all of the genomes belonging to the same cluster, given a similarity threshold"
   ]
  },
  {
   "cell_type": "code",
   "execution_count": 13,
   "id": "5a9a3bc9-d463-4d4e-93eb-82a4c9bcf13e",
   "metadata": {
    "execution": {
     "iopub.execute_input": "2025-10-03T09:37:47.764110Z",
     "iopub.status.busy": "2025-10-03T09:37:47.762897Z",
     "iopub.status.idle": "2025-10-03T09:38:23.533508Z",
     "shell.execute_reply": "2025-10-03T09:38:23.531970Z",
     "shell.execute_reply.started": "2025-10-03T09:37:47.764053Z"
    },
    "tags": []
   },
   "outputs": [
    {
     "name": "stdout",
     "output_type": "stream",
     "text": [
      "/opt/conda/lib/python3.10/site-packages/unifrac/__init__.py:9: UserWarning: pkg_resources is deprecated as an API. See https://setuptools.pypa.io/en/latest/pkg_resources.html. The pkg_resources package is slated for removal as early as 2025-11-30. Refrain from using this package or pin to Setuptools<81.\n",
      "  import pkg_resources\n",
      "\u001b[32mSaved MinHashSig to: w4_data/mags-hashes.qza\u001b[0m\n",
      "\u001b[0m\u001b[?25h"
     ]
    }
   ],
   "source": [
    "! qiime sourmash compute \\\n",
    "    --i-sequence-file $data_dir/mags-filtered.qza \\\n",
    "    --p-ksizes 105 \\\n",
    "    --p-scaled 100 \\\n",
    "    --o-min-hash-signature $data_dir/mags-hashes.qza"
   ]
  },
  {
   "cell_type": "code",
   "execution_count": 14,
   "id": "a64a7665-cc13-4513-833c-0845ca587bc6",
   "metadata": {
    "execution": {
     "iopub.execute_input": "2025-10-03T09:38:23.538511Z",
     "iopub.status.busy": "2025-10-03T09:38:23.537858Z",
     "iopub.status.idle": "2025-10-03T09:38:55.370308Z",
     "shell.execute_reply": "2025-10-03T09:38:55.368214Z",
     "shell.execute_reply.started": "2025-10-03T09:38:23.538447Z"
    },
    "tags": []
   },
   "outputs": [
    {
     "name": "stdout",
     "output_type": "stream",
     "text": [
      "/opt/conda/lib/python3.10/site-packages/unifrac/__init__.py:9: UserWarning: pkg_resources is deprecated as an API. See https://setuptools.pypa.io/en/latest/pkg_resources.html. The pkg_resources package is slated for removal as early as 2025-11-30. Refrain from using this package or pin to Setuptools<81.\n",
      "  import pkg_resources\n",
      "\u001b[32mSaved DistanceMatrix to: w4_data/mags-dist.qza\u001b[0m\n",
      "\u001b[0m\u001b[?25h"
     ]
    }
   ],
   "source": [
    "! qiime sourmash compare \\\n",
    "    --i-min-hash-signature $data_dir/mags-hashes.qza \\\n",
    "    --p-ksize 105 \\\n",
    "    --o-compare-output $data_dir/mags-dist.qza"
   ]
  },
  {
   "cell_type": "code",
   "execution_count": 15,
   "id": "9cf2dcf4-effc-401c-a25c-d4e995307dc5",
   "metadata": {
    "execution": {
     "iopub.execute_input": "2025-10-03T09:38:55.373530Z",
     "iopub.status.busy": "2025-10-03T09:38:55.373018Z",
     "iopub.status.idle": "2025-10-03T09:39:33.787307Z",
     "shell.execute_reply": "2025-10-03T09:39:33.786549Z",
     "shell.execute_reply.started": "2025-10-03T09:38:55.373483Z"
    },
    "tags": []
   },
   "outputs": [
    {
     "name": "stdout",
     "output_type": "stream",
     "text": [
      "/opt/conda/lib/python3.10/site-packages/unifrac/__init__.py:9: UserWarning: pkg_resources is deprecated as an API. See https://setuptools.pypa.io/en/latest/pkg_resources.html. The pkg_resources package is slated for removal as early as 2025-11-30. Refrain from using this package or pin to Setuptools<81.\n",
      "  import pkg_resources\n",
      "\u001b[32mSaved FeatureData[MAG] to: w4_data/mags-derep.qza\u001b[0m\n",
      "\u001b[32mSaved FeatureTable[PresenceAbsence] to: w4_data/mags-table-pa.qza\u001b[0m\n",
      "\u001b[0m\u001b[?25h"
     ]
    }
   ],
   "source": [
    "! qiime annotate dereplicate-mags \\\n",
    "    --i-mags $data_dir/mags-filtered.qza \\\n",
    "    --i-distance-matrix $data_dir/mags-dist.qza \\\n",
    "    --m-metadata-file $data_dir/busco-results.qza \\\n",
    "    --p-metadata-column \"completeness\" \\\n",
    "    --p-threshold 0.7 \\\n",
    "    --o-dereplicated-mags $data_dir/mags-derep.qza \\\n",
    "    --o-table $data_dir/mags-table-pa.qza"
   ]
  },
  {
   "cell_type": "markdown",
   "id": "d4506081-dfb8-466b-ab98-7e821a02fdd6",
   "metadata": {},
   "source": [
    "The previous step generated two artifacts:\n",
    "- `mags-derep.qza` containing all the dereplicated MAGs\n",
    "- `mags-table-pa.qza` containing a presence-absence table showing which of those MAGs was found in which sample\n",
    "\n",
    "To conclude this exercise, let's try to visualize the table using a heatmap:"
   ]
  },
  {
   "cell_type": "code",
   "execution_count": 6,
   "id": "7b250933-441a-428e-863f-1e4bce745e89",
   "metadata": {
    "execution": {
     "iopub.execute_input": "2025-10-06T09:02:51.531144Z",
     "iopub.status.busy": "2025-10-06T09:02:51.530329Z",
     "iopub.status.idle": "2025-10-06T09:03:21.813152Z",
     "shell.execute_reply": "2025-10-06T09:03:21.812070Z",
     "shell.execute_reply.started": "2025-10-06T09:02:51.531104Z"
    },
    "tags": []
   },
   "outputs": [
    {
     "name": "stderr",
     "output_type": "stream",
     "text": [
      "/opt/conda/lib/python3.10/site-packages/unifrac/__init__.py:9: UserWarning: pkg_resources is deprecated as an API. See https://setuptools.pypa.io/en/latest/pkg_resources.html. The pkg_resources package is slated for removal as early as 2025-11-30. Refrain from using this package or pin to Setuptools<81.\n",
      "  import pkg_resources\n"
     ]
    }
   ],
   "source": [
    "pa_table = q2.Artifact.load(f\"{data_dir}/mags-table-pa.qza\").view(pd.DataFrame)"
   ]
  },
  {
   "cell_type": "code",
   "execution_count": 7,
   "id": "36c5a5f6-a183-4349-914b-3f82ac572e86",
   "metadata": {
    "execution": {
     "iopub.execute_input": "2025-10-06T09:03:21.814687Z",
     "iopub.status.busy": "2025-10-06T09:03:21.814226Z",
     "iopub.status.idle": "2025-10-06T09:03:22.037882Z",
     "shell.execute_reply": "2025-10-06T09:03:22.036618Z",
     "shell.execute_reply.started": "2025-10-06T09:03:21.814667Z"
    },
    "tags": []
   },
   "outputs": [
    {
     "data": {
      "image/png": "[encoded data removed]",
      "text/plain": [
       "<Figure size 640x480 with 2 Axes>"
      ]
     },
     "metadata": {},
     "output_type": "display_data"
    }
   ],
   "source": [
    "sns.heatmap(pa_table.T, cmap='coolwarm', linewidths=0.5);"
   ]
  },
  {
   "cell_type": "markdown",
   "id": "578945b7-fb60-46e1-b944-8d50574cac02",
   "metadata": {},
   "source": [
    "<div style=\"background-color: aliceblue; padding: 10px;\">\n",
    "    \n",
    "**Checkpoint C**\n",
    "    \n",
    "Do you see how sample 4 contains most of the MAGs we recovered? Can you think of a reason why sample 1 is not shown here?\n",
    "</div>"
   ]
  },
  {
   "cell_type": "markdown",
   "id": "54cc6fac-3959-444a-a9a7-ae62476710f0",
   "metadata": {},
   "source": [
    "**Answer to Checkpoint C**\n",
    "*sample4* has the most recovered MAGs, as it's shown on the previous table having the most red boxes (meaning the MAG is present in the sample). *sample1* had no MAGs with completeness over 50%, so it was removed in the quality filtering step."
   ]
  }
 ],
 "metadata": {
  "kernelspec": {
   "display_name": "QIIME 2",
   "language": "python",
   "name": "python3"
  },
  "language_info": {
   "codemirror_mode": {
    "name": "ipython",
    "version": 3
   },
   "file_extension": ".py",
   "mimetype": "text/x-python",
   "name": "python",
   "nbconvert_exporter": "python",
   "pygments_lexer": "ipython3",
   "version": "3.10.14"
  }
 },
 "nbformat": 4,
 "nbformat_minor": 5
}
